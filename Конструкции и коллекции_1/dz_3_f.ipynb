{
 "cells": [
  {
   "cell_type": "markdown",
   "metadata": {},
   "source": [
    "Задача №1"
   ]
  },
  {
   "cell_type": "code",
   "execution_count": 1,
   "metadata": {},
   "outputs": [
    {
     "name": "stdout",
     "output_type": "stream",
     "text": [
      "Введите имя: Valentina\n",
      "9\n",
      "n\n"
     ]
    }
   ],
   "source": [
    "my_string = input('Введите имя: ')\n",
    "a = len(my_string)\n",
    "print(a)\n",
    "if a % 2 == 0:\n",
    "    print(my_string[a//2-1:a//2+1])\n",
    "else:\n",
    "    print(my_string[a//2])"
   ]
  },
  {
   "cell_type": "markdown",
   "metadata": {},
   "source": [
    "Задача №2"
   ]
  },
  {
   "cell_type": "code",
   "execution_count": 2,
   "metadata": {},
   "outputs": [
    {
     "name": "stdout",
     "output_type": "stream",
     "text": [
      "Идеальные пары:\n",
      "Alex и Emma\n",
      "Arthur и Kate\n",
      "John и Kira\n",
      "Peter и Liza\n",
      "Richard и Trisha\n"
     ]
    }
   ],
   "source": [
    "iboys = [\"Peter\", \"Alex\", \"John\", \"Arthur\", \"Richard\"]\n",
    "girls = [\"Kate\", \"Liza\", \"Kira\", \"Emma\", \"Trisha\"]\n",
    "len_iboys = len(iboys)\n",
    "len_girls = len(girls)\n",
    "if len_iboys!=len_girls:\n",
    "    print(\"Ничего не выйдет...\")\n",
    "else:\n",
    "    iboys.sort()\n",
    "    girls.sort()\n",
    "    perfect_сouples = zip(iboys, girls)\n",
    "    print(\"Идеальные пары:\")\n",
    "    for couple in perfect_сouples:\n",
    "        print(f\"{couple[0]} и {couple[1]}\")"
   ]
  },
  {
   "cell_type": "markdown",
   "metadata": {},
   "source": [
    "Задача №3"
   ]
  },
  {
   "cell_type": "code",
   "execution_count": 3,
   "metadata": {},
   "outputs": [
    {
     "name": "stdout",
     "output_type": "stream",
     "text": [
      "Thailand : \n",
      "24C\n",
      "24C\n",
      "24C\n",
      "24C\n",
      "24C\n",
      "24C\n",
      "24C\n",
      "Germany : \n",
      "14C\n",
      "14C\n",
      "14C\n",
      "14C\n",
      "14C\n",
      "14C\n",
      "14C\n",
      "Russia : \n",
      "4C\n",
      "4C\n",
      "4C\n",
      "4C\n",
      "4C\n",
      "4C\n",
      "4C\n",
      "Poland : \n",
      "12C\n",
      "12C\n",
      "12C\n",
      "12C\n",
      "12C\n",
      "12C\n",
      "12C\n"
     ]
    }
   ],
   "source": [
    "countries_temperature = [\n",
    " ['Thailand', [75.2, 77, 78.8, 73.4, 68, 75.2, 77]],\n",
    " ['Germany', [57.2, 55.4, 59, 59, 53.6, 55.4, 57.2]],\n",
    " ['Russia', [35.6, 37.4, 39.2, 41, 42.8, 39.2, 35.6]],\n",
    " ['Poland', [50, 50, 53.6, 57.2, 55.4, 55.4, 51.8]],\n",
    "]\n",
    "for countries in countries_temperature:\n",
    "    print(countries[0], \": \")\n",
    "    for tempertature in countries[1]:\n",
    "        t = round((tempertature - 32) * (5/9))\n",
    "        total = sum (countries[1])\n",
    "        days = len (countries[1])\n",
    "        avr = (total/days)\n",
    "        avr_C= round((avr - 32) * (5/9))\n",
    "        print(str(avr_C) + 'C')\n"
   ]
  },
  {
   "cell_type": "code",
   "execution_count": null,
   "metadata": {},
   "outputs": [],
   "source": [
    "Задача №4"
   ]
  },
  {
   "cell_type": "code",
   "execution_count": 10,
   "metadata": {},
   "outputs": [
    {
     "name": "stdout",
     "output_type": "stream",
     "text": [
      "93\n",
      "3\n",
      "4\n",
      "1\n",
      "13\n",
      "7\n",
      "4\n",
      "10\n",
      "19\n",
      "4\n",
      "8\n",
      "9\n",
      "11\n",
      "93\n",
      "user1\n",
      "user1\n",
      "user1\n",
      "user1\n",
      "user2\n",
      "user3\n",
      "user3\n",
      "user4\n",
      "user4\n",
      "user4\n",
      "user4\n",
      "user4\n",
      "['user4', 'user1', 'user2', 'user3']\n",
      "4\n",
      "23.25\n"
     ]
    }
   ],
   "source": [
    "stream = [\n",
    "    '2018-01-01,user1,3',\n",
    "    '2018-01-07,user1,4',\n",
    "    '2018-03-29,user1,1',\n",
    "    '2018-04-04,user1,13',\n",
    "    '2018-01-05,user2,7',\n",
    "    '2018-06-14,user3,4',\n",
    "    '2018-07-02,user3,10',\n",
    "    '2018-03-21,user4,19',\n",
    "    '2018-03-22,user4,4',\n",
    "    '2018-04-22,user4,8',\n",
    "    '2018-05-03,user4,9',\n",
    "    '2018-05-11,user4,11',\n",
    "]\n",
    "D = [int(str_[17:]) for str_ in stream]\n",
    "sum_v = (sum(D))\n",
    "print(sum_v)\n",
    "sum_ = 0\n",
    "for str_ in stream:\n",
    "    str_ = str_.split(\",\")\n",
    "    print(str_[2])\n",
    "    a = int(str_[2])\n",
    "    sum_ += a  \n",
    "print(sum_)\n",
    "for str_ in stream:\n",
    "    str_ = str_.split(\",\")\n",
    "    print(str_[1])\n",
    "    if str_[1] not in b:\n",
    "        b.append(str_[1])\n",
    "print(b)\n",
    "users=len(b)\n",
    "print(users)\n",
    "avr = sum_/users\n",
    "print(avr)"
   ]
  },
  {
   "cell_type": "markdown",
   "metadata": {},
   "source": [
    "Задача №5"
   ]
  },
  {
   "cell_type": "code",
   "execution_count": 6,
   "metadata": {},
   "outputs": [
    {
     "name": "stdout",
     "output_type": "stream",
     "text": [
      "2018-01-01\n",
      "google\n",
      "\n",
      "25\n",
      "\n",
      "\n",
      "\n",
      "\n",
      "\n",
      "\n",
      "\n",
      "\n"
     ]
    }
   ],
   "source": [
    "stats = [\n",
    "    ['2018-01-01', 'google', 25],\n",
    "    ['2018-01-01', 'yandex', 65],\n",
    "    ['2018-01-01', 'market', 89],\n",
    "    ['2018-01-02', 'google', 574],\n",
    "    ['2018-01-02', 'yandex', 249],\n",
    "    ['2018-01-02', 'market', 994],\n",
    "    ['2018-01-03', 'google', 1843],\n",
    "    ['2018-01-03', 'yandex', 1327],\n",
    "    ['2018-01-03', 'market', 1764],\n",
    "]\n",
    "date = input()\n",
    "browser = input()\n",
    "for elem in stats:\n",
    "    print()\n",
    "    if elem[0] == date and elem[1] == browser:\n",
    "        print(elem[2])"
   ]
  },
  {
   "cell_type": "code",
   "execution_count": null,
   "metadata": {},
   "outputs": [],
   "source": [
    "Задача №6"
   ]
  },
  {
   "cell_type": "code",
   "execution_count": 11,
   "metadata": {},
   "outputs": [
    {
     "name": "stdout",
     "output_type": "stream",
     "text": [
      "[13, 32, 23, 35]\n",
      "103\n"
     ]
    }
   ],
   "source": [
    "n=4\n",
    "data = [\n",
    "    [13, 25, 23, 34],\n",
    "    [45, 32, 44, 47],\n",
    "    [12, 33, 23, 95],\n",
    "    [13, 53, 34, 35]\n",
    "]\n",
    "D = [data[i][i] for i in range(4)]\n",
    "print(D)\n",
    "Diag_sum = (sum(D))\n",
    "print(Diag_sum)"
   ]
  },
  {
   "cell_type": "code",
   "execution_count": null,
   "metadata": {},
   "outputs": [],
   "source": []
  }
 ],
 "metadata": {
  "kernelspec": {
   "display_name": "Python 3",
   "language": "python",
   "name": "python3"
  },
  "language_info": {
   "codemirror_mode": {
    "name": "ipython",
    "version": 3
   },
   "file_extension": ".py",
   "mimetype": "text/x-python",
   "name": "python",
   "nbconvert_exporter": "python",
   "pygments_lexer": "ipython3",
   "version": "3.7.6"
  }
 },
 "nbformat": 4,
 "nbformat_minor": 4
}
